{
 "cells": [
  {
   "cell_type": "code",
   "execution_count": 1,
   "metadata": {},
   "outputs": [
    {
     "name": "stdout",
     "output_type": "stream",
     "text": [
      "Collecting git+https://github.com/rcmalli/keras-vggface.git\n",
      "  Cloning https://github.com/rcmalli/keras-vggface.git to c:\\users\\ravisi~1\\appdata\\local\\temp\\pip-req-build-z_94fxsd\n",
      "Requirement already satisfied (use --upgrade to upgrade): keras-vggface==0.6 from git+https://github.com/rcmalli/keras-vggface.git in c:\\users\\ravisingh\\anaconda3\\lib\\site-packages\n",
      "Requirement already satisfied: numpy>=1.9.1 in c:\\users\\ravisingh\\anaconda3\\lib\\site-packages (from keras-vggface==0.6) (1.15.4)\n",
      "Requirement already satisfied: scipy>=0.14 in c:\\users\\ravisingh\\anaconda3\\lib\\site-packages (from keras-vggface==0.6) (1.1.0)\n",
      "Requirement already satisfied: h5py in c:\\users\\ravisingh\\anaconda3\\lib\\site-packages (from keras-vggface==0.6) (2.8.0)\n",
      "Requirement already satisfied: pillow in c:\\users\\ravisingh\\anaconda3\\lib\\site-packages (from keras-vggface==0.6) (5.3.0)\n",
      "Requirement already satisfied: keras in c:\\users\\ravisingh\\anaconda3\\lib\\site-packages (from keras-vggface==0.6) (2.2.4)\n",
      "Requirement already satisfied: six>=1.9.0 in c:\\users\\ravisingh\\anaconda3\\lib\\site-packages (from keras-vggface==0.6) (1.12.0)\n",
      "Requirement already satisfied: pyyaml in c:\\users\\ravisingh\\anaconda3\\lib\\site-packages (from keras-vggface==0.6) (3.13)\n",
      "Requirement already satisfied: keras-applications>=1.0.6 in c:\\users\\ravisingh\\anaconda3\\lib\\site-packages (from keras->keras-vggface==0.6) (1.0.7)\n",
      "Requirement already satisfied: keras-preprocessing>=1.0.5 in c:\\users\\ravisingh\\anaconda3\\lib\\site-packages (from keras->keras-vggface==0.6) (1.0.9)\n",
      "Building wheels for collected packages: keras-vggface\n",
      "  Running setup.py bdist_wheel for keras-vggface: started\n",
      "  Running setup.py bdist_wheel for keras-vggface: finished with status 'done'\n",
      "  Stored in directory: C:\\Users\\RAVISI~1\\AppData\\Local\\Temp\\pip-ephem-wheel-cache-35fj10o2\\wheels\\36\\07\\46\\06c25ce8e9cd396dabe151ea1d8a2bc28dafcb11321c1f3a6d\n",
      "Successfully built keras-vggface\n"
     ]
    }
   ],
   "source": [
    "!pip install git+https://github.com/rcmalli/keras-vggface.git ### GETTING FACE FEATURE EXTRACTION BY VGG_FACE IMPLEMENTED IN KERAS."
   ]
  },
  {
   "cell_type": "code",
   "execution_count": 2,
   "metadata": {},
   "outputs": [
    {
     "name": "stdout",
     "output_type": "stream",
     "text": [
      "Requirement already satisfied: keras_vggface in c:\\users\\ravisingh\\anaconda3\\lib\\site-packages (0.6)\n",
      "Requirement already satisfied: six>=1.9.0 in c:\\users\\ravisingh\\anaconda3\\lib\\site-packages (from keras_vggface) (1.12.0)\n",
      "Requirement already satisfied: keras in c:\\users\\ravisingh\\anaconda3\\lib\\site-packages (from keras_vggface) (2.2.4)\n",
      "Requirement already satisfied: h5py in c:\\users\\ravisingh\\anaconda3\\lib\\site-packages (from keras_vggface) (2.8.0)\n",
      "Requirement already satisfied: scipy>=0.14 in c:\\users\\ravisingh\\anaconda3\\lib\\site-packages (from keras_vggface) (1.1.0)\n",
      "Requirement already satisfied: numpy>=1.9.1 in c:\\users\\ravisingh\\anaconda3\\lib\\site-packages (from keras_vggface) (1.15.4)\n",
      "Requirement already satisfied: pillow in c:\\users\\ravisingh\\anaconda3\\lib\\site-packages (from keras_vggface) (5.3.0)\n",
      "Requirement already satisfied: pyyaml in c:\\users\\ravisingh\\anaconda3\\lib\\site-packages (from keras_vggface) (3.13)\n",
      "Requirement already satisfied: keras-applications>=1.0.6 in c:\\users\\ravisingh\\anaconda3\\lib\\site-packages (from keras->keras_vggface) (1.0.7)\n",
      "Requirement already satisfied: keras-preprocessing>=1.0.5 in c:\\users\\ravisingh\\anaconda3\\lib\\site-packages (from keras->keras_vggface) (1.0.9)\n"
     ]
    }
   ],
   "source": [
    "!pip install keras_vggface ### INSTALLING KERAS VGGFACE FOR FACE FEATURE EXTRACTION."
   ]
  },
  {
   "cell_type": "code",
   "execution_count": 2,
   "metadata": {},
   "outputs": [
    {
     "name": "stderr",
     "output_type": "stream",
     "text": [
      "Using TensorFlow backend.\n"
     ]
    }
   ],
   "source": [
    "import cv2\n",
    "import os\n",
    "import numpy as np\n",
    "from PIL import Image\n",
    "from keras_vggface.vggface import VGGFace\n",
    "import random\n",
    "from tqdm import tqdm"
   ]
  },
  {
   "cell_type": "code",
   "execution_count": 2,
   "metadata": {},
   "outputs": [],
   "source": [
    "face_cascade = cv2.CascadeClassifier('haarcascade_frontalface_default.xml') #### FOR FACE DETECTION"
   ]
  },
  {
   "cell_type": "code",
   "execution_count": 3,
   "metadata": {},
   "outputs": [
    {
     "name": "stdout",
     "output_type": "stream",
     "text": [
      "WARNING:tensorflow:From C:\\Users\\RAVISINGH\\Anaconda3\\lib\\site-packages\\tensorflow\\python\\framework\\op_def_library.py:263: colocate_with (from tensorflow.python.framework.ops) is deprecated and will be removed in a future version.\n",
      "Instructions for updating:\n",
      "Colocations handled automatically by placer.\n"
     ]
    }
   ],
   "source": [
    "vgg_features = VGGFace(model='senet50',include_top=False, input_shape=(224, 224, 3), pooling='avg') ### SENET50 IS A MODEL WE WILL BE USING FOR FACE FEATURE."
   ]
  },
  {
   "cell_type": "code",
   "execution_count": 4,
   "metadata": {},
   "outputs": [],
   "source": [
    "def detect(gray, frame):\n",
    "    \"\"\"\n",
    "    \n",
    "    THIS FUNCTION DETECTS THE FACE IN GREY IMAGE AND CROP IT THEN PREDICT ITS  FACE FEATURE\n",
    "    \n",
    "    PAPAMETER:\n",
    "    GREY:  np array; THE GREY SCALE OF IMAGE\n",
    "    FRAME: np array; ACTUAL IMAGE\n",
    "    \n",
    "    RETURNS:\n",
    "    FACE_FEATURE: np.array; PREDICTED ARRAY OF SIZE (1,2048)\n",
    "    FRAME_CROP: np array; CROPED IMAGE\n",
    "    \n",
    "    \"\"\"\n",
    "    faces_cnn = cnn_face_detector(frame, 1)\n",
    "    for face in faces_cnn:\n",
    "        x = face.rect.left()\n",
    "        y = face.rect.top()\n",
    "        w = face.rect.right() - x\n",
    "        h = face.rect.bottom() - y\n",
    "    frame = frame[x:x + w,y:y+h]\n",
    "    frame = np.array(frame.resize((224,224))).reshape((1,224,224,3))\n",
    "    return vgg_features.predict(frame), frame_crop"
   ]
  },
  {
   "cell_type": "code",
   "execution_count": 5,
   "metadata": {},
   "outputs": [],
   "source": [
    "data_points = os.listdir(\"zippedFaces/unzippedFaces\") ## GETTING DATA POINTS THAT IS NAME OF CELEBRTIES."
   ]
  },
  {
   "cell_type": "code",
   "execution_count": 47,
   "metadata": {},
   "outputs": [
    {
     "name": "stderr",
     "output_type": "stream",
     "text": [
      "100%|██████████████████████████████████████████████████████████████████████████████| 1251/1251 [24:51<00:00,  1.23s/it]\n"
     ]
    }
   ],
   "source": [
    "no_of_record_per_image = 3  ## NUMBER OF TIMES EVERY CELEBRITIES (DIFFERENT) IMAGES IS TO BE STORED\n",
    "face_feature = np.zeros((len(data_points)*no_of_record_per_image,2048)) ### ARRAY THAT WILL STORE THE FACE FEATURE\n",
    "if not(\"Face_Feature\" in os.listdir()): ### MAKING DIR\n",
    "    os.mkdir(\"Face_Feature\")\n",
    "    os.mkdir(\"Face_Feature/Faces\")\n",
    "index = 0\n",
    "### EXTRACTING FACE FEATURE.\n",
    "for i in tqdm(range(len(data_points))):\n",
    "    for j in range(no_of_record_per_image): \n",
    "        \n",
    "        try:\n",
    "        \n",
    "            path_img = os.path.join(r\"zippedFaces\\unzippedFaces\",data_points[i],\"1.6\",random.choice(os.listdir(os.path.join(r\"zippedFaces/unzippedFaces\",data_points[i],\"1.6\"))))\n",
    "            image_path = os.path.join(path_img ,  random.choice(os.listdir(path_img)))\n",
    "            img = cv2.imread(image_path)\n",
    "            grey = cv2.cvtColor(img, cv2.COLOR_BGR2GRAY)\n",
    "\n",
    "            face_feature[index,:], frame = detect(grey, img)\n",
    "\n",
    "            filename = data_points[i] + \"_\"  + str(j) + \".jpg\"\n",
    "            path_save = os.path.join(\"Face_Feature/Faces\", filename )\n",
    "            cv2.imwrite(path_save, frame)\n",
    "        except:\n",
    "            pass\n",
    "        index += 1\n",
    "np.save(\"Face_Feature/facefeature.npy\",face_feature)\n",
    "        "
   ]
  },
  {
   "cell_type": "code",
   "execution_count": null,
   "metadata": {},
   "outputs": [],
   "source": []
  }
 ],
 "metadata": {
  "kernelspec": {
   "display_name": "Python 3",
   "language": "python",
   "name": "python3"
  },
  "language_info": {
   "codemirror_mode": {
    "name": "ipython",
    "version": 3
   },
   "file_extension": ".py",
   "mimetype": "text/x-python",
   "name": "python",
   "nbconvert_exporter": "python",
   "pygments_lexer": "ipython3",
   "version": "3.7.1"
  }
 },
 "nbformat": 4,
 "nbformat_minor": 2
}
